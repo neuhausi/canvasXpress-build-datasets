{
 "metadata": {
  "language_info": {
   "codemirror_mode": {
    "name": "ipython",
    "version": 3
   },
   "file_extension": ".py",
   "mimetype": "text/x-python",
   "name": "python",
   "nbconvert_exporter": "python",
   "pygments_lexer": "ipython3",
   "version": "3.8.3"
  },
  "orig_nbformat": 2,
  "kernelspec": {
   "name": "python383jvsc74a57bd0082e9a3bcad0a290d0001e938aa60b99250c6c2ef33a923c00b70f9826caf4b7",
   "display_name": "Python 3.8.3 64-bit ('3.8')"
  }
 },
 "nbformat": 4,
 "nbformat_minor": 2,
 "cells": [
  {
   "cell_type": "code",
   "execution_count": 1,
   "metadata": {},
   "outputs": [],
   "source": [
    "import pandas as pd\n",
    "\n",
    "\n",
    "def winer(d):\n",
    "    if d[\"DEMOCRAT\"] > d[\"REPUBLICAN\"]:\n",
    "        return \"DEMOCRAT\"\n",
    "    else:\n",
    "        return \"REPUBLICAN\"\n",
    "\n",
    "\n",
    "def democrat(d):\n",
    "    if d[\"DEMOCRAT\"] > d[\"REPUBLICAN\"]:\n",
    "        return d[\"Electoral\"]\n",
    "    else:\n",
    "        return 0\n",
    "\n",
    "\n",
    "def republican(d):\n",
    "    if d[\"DEMOCRAT\"] < d[\"REPUBLICAN\"]:\n",
    "        return d[\"Electoral\"]\n",
    "    else:\n",
    "        return 0\n",
    "\n",
    "\n",
    "def electoral(d):\n",
    "    if d[\"Electoral Democrat\"] > d[\"Electoral Republican\"]:\n",
    "        return \"DEMOCRAT\"\n",
    "    else:\n",
    "        return \"REPUBLICAN\"\n",
    "\n",
    "\n",
    "def parse_files(presidents, votes):\n",
    "    df = pd.read_csv(votes, sep=\"\\t\", index_col=False)\n",
    "    vt = dict()\n",
    "    for index, row in df.iterrows():\n",
    "        vt[row[\"Code\"]] = row[\"Votes\"]\n",
    "    df = pd.read_csv(presidents, sep=\"\\t\", index_col=False)\n",
    "    sumr = dict()\n",
    "    for index, row in df.iterrows():\n",
    "        key = (str(row[\"year\"]) + \":\" + row[\"state_po\"] + \":\" + str(vt[row[\"state_po\"]]) + \":\"+ row[\"party_simplified\"])\n",
    "        if key in sumr:\n",
    "            sumr[key] += row[\"candidatevotes\"]\n",
    "        else:\n",
    "            sumr[key] = row[\"candidatevotes\"]\n",
    "    sumr = pd.DataFrame(sumr.items())\n",
    "    data = pd.DataFrame(sumr[0].str.split(\":\", n=3, expand=True))\n",
    "    data.columns = [\"Year\", \"State\", \"Electoral\", \"Party\"]\n",
    "    data[\"Votes\"] = sumr[1]\n",
    "    data[\"Electoral\"] = pd.to_numeric(data[\"Electoral\"])\n",
    "    data = data.pivot_table(\"Votes\", [\"Year\", \"State\", \"Electoral\"], \"Party\")\n",
    "    data.reset_index(drop=False, inplace=True)\n",
    "    data[\"Winer\"] = data.apply(winer, axis=1)\n",
    "    data[\"Electoral Democrat\"] = data.apply(democrat, axis=1)\n",
    "    data[\"Electoral Republican\"] = data.apply(republican, axis=1)\n",
    "    data = data.fillna(0)\n",
    "    return data\n",
    "\n",
    "\n",
    "def create_total(full):\n",
    "    tot = pd.DataFrame(full[[\"Year\",\"Electoral Democrat\",\"Electoral Republican\",\"DEMOCRAT\",\"REPUBLICAN\",\"LIBERTARIAN\",\"OTHER\"]].groupby(\"Year\").sum())\n",
    "    tot[\"Popular\"] = tot.apply(winer, axis=1)\n",
    "    tot[\"Electoral\"] = tot.apply(electoral, axis=1)\n",
    "    tot[\"Year\"] = (tot.index)\n",
    "    return tot\n",
    "\n",
    "\n",
    "full = parse_files(\"./1976-2020-president.tsv\", \"./electoral-votes.tsv\")\n",
    "total = create_total(full)\n",
    "full.to_csv(\"./1976-2020-president-py.tsv\", sep=\"\\t\", index=False)\n",
    "total.to_csv(\"./1976-2020-president-total-py.tsv\", sep=\"\\t\", index=False)"
   ]
  },
  {
   "cell_type": "code",
   "execution_count": 2,
   "metadata": {},
   "outputs": [],
   "source": [
    "import numpy as np\n",
    "import pandas as pd\n",
    "import json \n",
    "\n",
    "\n",
    "def parse_file(file):\n",
    "    df = pd.read_csv(file, sep=\"\\t\", index_col=False)\n",
    "    d = df[[\"DEMOCRAT\",\"REPUBLICAN\",\"LIBERTARIAN\",\"OTHER\"]].T.to_numpy().tolist()\n",
    "    s = df[\"Year\"].to_numpy().tolist()\n",
    "    v = [\"DEMOCRAT\",\"REPUBLICAN\",\"LIBERTARIAN\",\"OTHER\"]\n",
    "    data = {\"renderTo\":\"presidentsTotal\",\"data\":{\"y\":{\"data\":d,\"vars\":v,\"smps\":s}},\"config\": {\"graphType\":\"Stacked\",\"graphOrientation\":\"vertical\"}}\n",
    "    with open(\"presidentsTotal.json\", \"w\") as outfile:\n",
    "        json.dump(data,outfile)\n",
    "    #print(json.dumps(data,indent=2,sort_keys=True))\n",
    "\n",
    "parse_file(\"./1976-2020-president-total-py.tsv\")"
   ]
  },
  {
   "cell_type": "code",
   "execution_count": 3,
   "metadata": {},
   "outputs": [
    {
     "output_type": "display_data",
     "data": {
      "text/plain": "<IPython.lib.display.IFrame at 0x7f894077e3a0>",
      "text/html": "\n        <iframe\n            width=\"520\"\n            height=\"520\"\n            src=\"temp_7787387b-8d6d-4170-9955-9406295bf00c.html\"\n            frameborder=\"0\"\n            allowfullscreen\n        ></iframe>\n        "
     },
     "metadata": {}
    }
   ],
   "source": [
    "import json\n",
    "from canvasxpress.canvas import CanvasXpress\n",
    "from canvasxpress.config.collection import CXConfigs\n",
    "from canvasxpress.config.type import CXGraphType, CXGraphTypeOptions\n",
    "from canvasxpress.data.keypair import CXDictData\n",
    "from canvasxpress.render.jupyter import CXNoteBook\n",
    "\n",
    "with open(\"presidentsTotal.json\") as json_file:\n",
    "    data = json.load(json_file)\n",
    "\n",
    "    \n",
    "chart_options = CXConfigs()\n",
    "chart_options \\\n",
    "    .add(CXGraphType(CXGraphTypeOptions.Stacked)) \\\n",
    "    .set_param(\"graphOrientation\", \"vertical\")\n",
    "\n",
    "chart: CanvasXpress = CanvasXpress(\n",
    "    target_id=data[\"renderTo\"],\n",
    "    data=data[\"data\"],\n",
    "    configs=chart_options\n",
    ")\n",
    "\n",
    "demo_nb = CXNoteBook(chart)\n",
    "demo_nb.render()"
   ]
  },
  {
   "cell_type": "code",
   "execution_count": 5,
   "metadata": {},
   "outputs": [],
   "source": [
    "import numpy as np\n",
    "import pandas as pd\n",
    "import json \n",
    "\n",
    "\n",
    "def parse_file(file):\n",
    "    df = pd.read_csv(file, sep=\"\\t\", index_col=False)\n",
    "    d = df[[\"Electoral Democrat\",\"Electoral Republican\"]].T.to_numpy().tolist()\n",
    "    s = df[\"Year\"].to_numpy().tolist()\n",
    "    v = [\"Electoral Democrat\",\"Electoral Republican\"]\n",
    "    data = {\"renderTo\":\"presidentsElectoral\",\"data\":{\"y\":{\"data\":d,\"vars\":v,\"smps\":s}},\"config\": {\"graphType\":\"Bar\",\"graphOrientation\":\"vertical\"}}\n",
    "    with open(\"presidentsElectoral.json\", \"w\") as outfile:\n",
    "        json.dump(data,outfile)\n",
    "    #print(json.dumps(data,indent=2,sort_keys=True))\n",
    "\n",
    "parse_file(\"./1976-2020-president-total-py.tsv\")"
   ]
  },
  {
   "cell_type": "code",
   "execution_count": 6,
   "metadata": {},
   "outputs": [
    {
     "output_type": "display_data",
     "data": {
      "text/plain": "<IPython.lib.display.IFrame at 0x7f89208a4a60>",
      "text/html": "\n        <iframe\n            width=\"520\"\n            height=\"520\"\n            src=\"temp_077d4ee2-783b-4422-bcc1-8803dbd57bf4.html\"\n            frameborder=\"0\"\n            allowfullscreen\n        ></iframe>\n        "
     },
     "metadata": {}
    }
   ],
   "source": [
    "with open(\"presidentsElectoral.json\") as json_file:\n",
    "    data = json.load(json_file)\n",
    "\n",
    "    \n",
    "chart_options = CXConfigs()\n",
    "chart_options \\\n",
    "    .add(CXGraphType(CXGraphTypeOptions.Bar)) \\\n",
    "    .set_param(\"graphOrientation\", \"vertical\")\n",
    "\n",
    "chart: CanvasXpress = CanvasXpress(\n",
    "    target_id=data[\"renderTo\"],\n",
    "    data=data[\"data\"],\n",
    "    configs=chart_options\n",
    ")\n",
    "\n",
    "demo_nb = CXNoteBook(chart)\n",
    "demo_nb.render()"
   ]
  },
  {
   "cell_type": "code",
   "execution_count": 8,
   "metadata": {},
   "outputs": [],
   "source": [
    "import numpy as np\n",
    "import pandas as pd\n",
    "import json \n",
    "\n",
    "\n",
    "def parse_file(file):\n",
    "    df = pd.read_csv(file, sep=\"\\t\", index_col=False)\n",
    "    d = df[[\"DEMOCRAT\",\"REPUBLICAN\"]].T.to_numpy().tolist()\n",
    "    s = df[\"Year\"].to_numpy().tolist()\n",
    "    v = [\"DEMOCRAT\",\"REPUBLICAN\"]\n",
    "    data = {\"renderTo\":\"presidentsPopular\",\"data\":{\"y\":{\"data\":d,\"vars\":v,\"smps\":s}},\"config\": {\"graphType\":\"Bar\",\"graphOrientation\":\"vertical\"}}\n",
    "    with open(\"presidentsPopular.json\", \"w\") as outfile:\n",
    "        json.dump(data,outfile)\n",
    "    #print(json.dumps(data,indent=2,sort_keys=True))\n",
    "\n",
    "parse_file(\"./1976-2020-president-total-py.tsv\")"
   ]
  },
  {
   "cell_type": "code",
   "execution_count": 9,
   "metadata": {},
   "outputs": [
    {
     "output_type": "display_data",
     "data": {
      "text/plain": "<IPython.lib.display.IFrame at 0x7f89208a4280>",
      "text/html": "\n        <iframe\n            width=\"520\"\n            height=\"520\"\n            src=\"temp_32f599d7-5378-43f5-a0b3-b5f35b8e8ef3.html\"\n            frameborder=\"0\"\n            allowfullscreen\n        ></iframe>\n        "
     },
     "metadata": {}
    }
   ],
   "source": [
    "with open(\"presidentsPopular.json\") as json_file:\n",
    "    data = json.load(json_file)\n",
    "\n",
    "    \n",
    "chart_options = CXConfigs()\n",
    "chart_options \\\n",
    "    .add(CXGraphType(CXGraphTypeOptions.Bar)) \\\n",
    "    .set_param(\"graphOrientation\", \"vertical\")\n",
    "\n",
    "chart: CanvasXpress = CanvasXpress(\n",
    "    target_id=data[\"renderTo\"],\n",
    "    data=data[\"data\"],\n",
    "    configs=chart_options\n",
    ")\n",
    "\n",
    "demo_nb = CXNoteBook(chart)\n",
    "demo_nb.render()"
   ]
  },
  {
   "cell_type": "code",
   "execution_count": 10,
   "metadata": {},
   "outputs": [],
   "source": [
    "import numpy as np\n",
    "import pandas as pd\n",
    "import json \n",
    "\n",
    "\n",
    "def parse_file(file):\n",
    "    df = pd.read_csv(file, sep=\"\\t\", index_col=False)\n",
    "    d = df[[\"DEMOCRAT\",\"REPUBLICAN\",\"LIBERTARIAN\",\"OTHER\"]].to_numpy().tolist()\n",
    "    yr = df[\"Year\"].to_numpy().tolist()\n",
    "    ed = df[\"Electoral Democrat\"].to_numpy().tolist()\n",
    "    er = df[\"Electoral Republican\"].to_numpy().tolist()\n",
    "    wn = df[\"Winer\"].to_numpy().tolist()\n",
    "    st = df[\"State\"].to_numpy().tolist()\n",
    "    el = df[\"Electoral\"].to_numpy().tolist()\n",
    "    df[\"Id\"] = df.index\n",
    "    v = df[\"Id\"].to_numpy().tolist()\n",
    "    s = [\"DEMOCRAT\",\"REPUBLICAN\",\"LIBERTARIAN\",\"OTHER\"]\n",
    "    z = {\"Year\":yr,\"Electoral Democrat\":ed,\"Electoral Republican\":er,\"Winer\":wn,\"id\":st,\"Electoral\":el}\n",
    "    data = {\"renderTo\":\"presidentsTotal\",\"data\":{\"y\":{\"data\":d,\"smps\":s,\"vars\":v},\"z\":z},\"config\": {\"graphType\":\"Map\",\"mapProjection\":\"albers\",\"topoJSON\":\"https://www.canvasxpress.org/data/usa-albers-states.json\",\"motionBy\":\"Year\",\"colorBy\":\"Winer\"}}\n",
    "    with open(\"presidents.json\", \"w\") as outfile:\n",
    "        json.dump(data,outfile)\n",
    "    #print(json.dumps(data,indent=2,sort_keys=True))\n",
    "\n",
    "parse_file(\"./1976-2020-president-py.tsv\")"
   ]
  },
  {
   "cell_type": "code",
   "execution_count": 11,
   "metadata": {},
   "outputs": [
    {
     "output_type": "display_data",
     "data": {
      "text/plain": "<IPython.lib.display.IFrame at 0x7f8900165370>",
      "text/html": "\n        <iframe\n            width=\"520\"\n            height=\"520\"\n            src=\"temp_34b61544-6e94-4d0b-85d7-c22dc36d80f4.html\"\n            frameborder=\"0\"\n            allowfullscreen\n        ></iframe>\n        "
     },
     "metadata": {}
    }
   ],
   "source": [
    "with open(\"presidents.json\") as json_file:\n",
    "    data = json.load(json_file)\n",
    "\n",
    "    \n",
    "chart_options = CXConfigs()\n",
    "chart_options \\\n",
    "    .add(CXGraphType(CXGraphTypeOptions.Map)) \\\n",
    "    .set_param(\"mapId\", \"albersStates\") \\\n",
    "    .set_param(\"mapProjection\", \"albers\") \\\n",
    "    .set_param(\"motionBy\", \"Year\") \\\n",
    "    .set_param(\"colorBy\", \"Winer\") \\\n",
    "    .set_param(\"topoJSON\", \"https://www.canvasxpress.org/data/usa-albers-states.json\")\n",
    "\n",
    "chart: CanvasXpress = CanvasXpress(\n",
    "    target_id=data[\"renderTo\"],\n",
    "    data=data[\"data\"],\n",
    "    configs=chart_options\n",
    ")\n",
    "\n",
    "demo_nb = CXNoteBook(chart)\n",
    "demo_nb.render()"
   ]
  },
  {
   "cell_type": "code",
   "execution_count": null,
   "metadata": {},
   "outputs": [],
   "source": []
  }
 ]
}